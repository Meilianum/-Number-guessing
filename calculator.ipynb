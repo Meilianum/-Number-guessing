{
  "nbformat": 4,
  "nbformat_minor": 0,
  "metadata": {
    "colab": {
      "provenance": [],
      "authorship_tag": "ABX9TyMq+8IAAhmQ9puUom9Hf9yR",
      "include_colab_link": true
    },
    "kernelspec": {
      "name": "python3",
      "display_name": "Python 3"
    },
    "language_info": {
      "name": "python"
    }
  },
  "cells": [
    {
      "cell_type": "markdown",
      "metadata": {
        "id": "view-in-github",
        "colab_type": "text"
      },
      "source": [
        "<a href=\"https://colab.research.google.com/github/Meilianum/-Number-guessing/blob/main/calculator.ipynb\" target=\"_parent\"><img src=\"https://colab.research.google.com/assets/colab-badge.svg\" alt=\"Open In Colab\"/></a>"
      ]
    },
    {
      "cell_type": "code",
      "execution_count": null,
      "metadata": {
        "id": "VUiuVAKT5L-G"
      },
      "outputs": [],
      "source": []
    },
    {
      "cell_type": "markdown",
      "source": [
        "### ***four_operations_calculator.py (because it does +, -, *, /)***"
      ],
      "metadata": {
        "id": "bt9svztz5Px-"
      }
    },
    {
      "cell_type": "code",
      "source": [],
      "metadata": {
        "colab": {
          "base_uri": "https://localhost:8080/"
        },
        "id": "rCwy0DCV7fqr",
        "outputId": "e22de32c-2d7f-4aca-8385-76f66224853b"
      },
      "execution_count": 9,
      "outputs": [
        {
          "output_type": "stream",
          "name": "stdout",
          "text": [
            "four_operations_calculator.py (because it does +, -, *, /)\n"
          ]
        }
      ]
    },
    {
      "cell_type": "code",
      "source": [
        "def add(x, y):\n",
        "    return x + y\n",
        "\n",
        "def subtract(x, y):\n",
        "    return x - y\n",
        "\n",
        "def multiply(x, y):\n",
        "    return x * y\n",
        "\n",
        "def divide(x, y):\n",
        "    if y != 0:\n",
        "        return x / y\n",
        "    else:\n",
        "        return \"Error! Division by zero.\"\n",
        "\n",
        "print(\"Select Operation:\")\n",
        "print(\"1. Add\")\n",
        "print(\"2. Subtract\")\n",
        "print(\"3. Multiply\")\n",
        "print(\"4. Divide\")\n",
        "\n",
        "choice = input(\"Enter choice Add/Subtract/Multiply/Divide (1/2/3/4): \")\n",
        "\n",
        "num1 = int(input(\"Enter first number: \"))\n",
        "num2 = int(input(\"Enter second number: \"))\n",
        "\n",
        "if choice == '1':\n",
        "    print(f\"The result is: {add(num1, num2)}\")\n",
        "elif choice == '2':\n",
        "    print(f\"The result is: {subtract(num1, num2)}\")\n",
        "elif choice == '3':\n",
        "    print(f\"The result is: {multiply(num1, num2)}\")\n",
        "elif choice == '4':\n",
        "    print(f\"The result is: {divide(num1, num2)}\")\n",
        "else:\n",
        "    print(\"Invalid input! Please choose a valid option.\")\n",
        "\n"
      ],
      "metadata": {
        "colab": {
          "base_uri": "https://localhost:8080/"
        },
        "id": "6GcQEf1Z5V0y",
        "outputId": "b6a43e03-868a-41a1-866d-fcb1c6b26ebd"
      },
      "execution_count": 12,
      "outputs": [
        {
          "output_type": "stream",
          "name": "stdout",
          "text": [
            "Select Operation:\n",
            "1. Add\n",
            "2. Subtract\n",
            "3. Multiply\n",
            "4. Divide\n",
            "Enter choice Add/Subtract/Multiply/Divide (1/2/3/4): 1\n",
            "Enter first number: 12\n",
            "Enter second number: 12\n",
            "The result is: 24\n"
          ]
        }
      ]
    }
  ]
}